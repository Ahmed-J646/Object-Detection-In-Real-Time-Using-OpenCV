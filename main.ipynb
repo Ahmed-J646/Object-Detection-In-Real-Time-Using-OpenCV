{
 "cells": [
  {
   "cell_type": "code",
   "execution_count": 2,
   "metadata": {},
   "outputs": [],
   "source": [
    "import imutils \n",
    "import numpy\n",
    "import cv2\n",
    "import datetime"
   ]
  },
  {
   "cell_type": "code",
   "execution_count": 3,
   "metadata": {},
   "outputs": [],
   "source": [
    "cascade = cv2.CascadeClassifier(\"cascade.xml\")\n",
    " \n",
    "frame = cv2.imread(\"image.png\")\n",
    "\n",
    "if frame is None:\n",
    "    print(\"Error Occured\")\n",
    "    exit()"
   ]
  },
  {
   "cell_type": "code",
   "execution_count": 4,
   "metadata": {},
   "outputs": [],
   "source": [
    "# Converting The Image To 500 Width For Faster Processing:\n",
    "frame = imutils.resize(frame, width= 500)"
   ]
  },
  {
   "cell_type": "code",
   "execution_count": 5,
   "metadata": {},
   "outputs": [],
   "source": [
    "# Coverting The Image From BGR to GrayScale:\n",
    "gray = cv2.cvtColor(frame, cv2.COLOR_BGR2GRAY)\n"
   ]
  },
  {
   "cell_type": "code",
   "execution_count": 6,
   "metadata": {},
   "outputs": [],
   "source": [
    "# This Will give (x, y, w, h):\n",
    "gun = cascade.detectMultiScale(gray, 1.3, 20, minSize=(100, 100))\n"
   ]
  },
  {
   "cell_type": "code",
   "execution_count": 7,
   "metadata": {},
   "outputs": [],
   "source": [
    "gun_exist = False\n",
    "\n",
    "Data_inputs = []\n",
    "\n",
    "for x, y, w, h in gun:\n",
    "     gun_exist = True\n",
    "\n",
    "roi = frame[y:y + h, x:x + w]\n",
    "\n",
    "Data_inputs.append({\n",
    "     \"DateTime\" : datetime.datetime.now().strftime(\"%Y-%m-%d %H:%M:%S\"),\n",
    "     \"BoundingBox\" : (x, y, w, h),\n",
    "     \"ROI\" : roi\n",
    "})\n",
    "\n",
    "\n",
    "frame = cv2.rectangle(frame, (x, y), (x + w , y + h), (255, 0, 0), 2)\n"
   ]
  },
  {
   "cell_type": "code",
   "execution_count": 9,
   "metadata": {},
   "outputs": [
    {
     "name": "stdout",
     "output_type": "stream",
     "text": [
      "Total detections: 1\n",
      "Detection 1:\n",
      "  Timestamp: 2024-12-25 15:27:13\n",
      "  Bounding Box: (np.int32(201), np.int32(324), np.int32(118), np.int32(118))\n"
     ]
    }
   ],
   "source": [
    "if gun_exist:\n",
    "    print(f\"Total detections: {len(Data_inputs)}\")\n",
    "    for i, entry in enumerate(Data_inputs):\n",
    "        print(f\"Detection {i + 1}:\")\n",
    "        print(f\"  Timestamp: {entry['DateTime']}\")\n",
    "        print(f\"  Bounding Box: {entry['BoundingBox']}\")\n",
    "\n",
    "        # Save the detected region as an image\n",
    "        cv2.imwrite(f\"gun_detection_{i + 1}.png\", entry[\"ROI\"])\n",
    "else:\n",
    "    print(\"No guns detected in the image.\")\n"
   ]
  },
  {
   "cell_type": "code",
   "execution_count": 10,
   "metadata": {},
   "outputs": [],
   "source": [
    "cv2.waitKey(0)\n",
    "cv2.destroyAllWindows()\n"
   ]
  }
 ],
 "metadata": {
  "kernelspec": {
   "display_name": "project",
   "language": "python",
   "name": "python3"
  },
  "language_info": {
   "codemirror_mode": {
    "name": "ipython",
    "version": 3
   },
   "file_extension": ".py",
   "mimetype": "text/x-python",
   "name": "python",
   "nbconvert_exporter": "python",
   "pygments_lexer": "ipython3",
   "version": "3.12.8"
  }
 },
 "nbformat": 4,
 "nbformat_minor": 2
}
